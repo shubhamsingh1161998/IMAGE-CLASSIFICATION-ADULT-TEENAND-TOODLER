{
 "cells": [
  {
   "cell_type": "code",
   "execution_count": 1,
   "metadata": {},
   "outputs": [],
   "source": [
    "import pandas as pd \n",
    "import tensorflow as tf\n",
    "from tensorflow import keras"
   ]
  },
  {
   "cell_type": "code",
   "execution_count": 4,
   "metadata": {},
   "outputs": [
    {
     "name": "stdout",
     "output_type": "stream",
     "text": [
      "Collecting tensorflow\n",
      "  Downloading tensorflow-2.3.0-cp37-cp37m-manylinux2010_x86_64.whl (320.4 MB)\n",
      "\u001b[K     |████████████████████████████████| 320.4 MB 20 kB/s  eta 0:00:012  |▋                               | 6.3 MB 396 kB/s eta 0:13:14     |██████▌                         | 65.6 MB 100 kB/s eta 0:42:07     |██████▋                         | 66.6 MB 328 kB/s eta 0:12:54     |███████                         | 70.8 MB 766 kB/s eta 0:05:26     |████████                        | 81.0 MB 156 kB/s eta 0:25:31     |█████████▍                      | 93.6 MB 69 kB/s eta 0:54:38     |██████████▋                     | 106.3 MB 561 kB/s eta 0:06:22     |████████████                    | 120.6 MB 679 kB/s eta 0:04:55     |████████████▎                   | 123.4 MB 827 kB/s eta 0:03:59     |████████████▋                   | 126.3 MB 708 kB/s eta 0:04:34     |█████████████                   | 130.9 MB 1.1 MB/s eta 0:02:51     |██████████████                  | 139.6 MB 107 kB/s eta 0:28:03     |██████████████▎                 | 143.2 MB 115 kB/s eta 0:25:29     |██████████████▉                 | 148.5 MB 462 kB/s eta 0:06:12     |███████████████▊                | 157.2 MB 938 kB/s eta 0:02:54     |████████████████▉               | 168.9 MB 257 kB/s eta 0:09:48     |██████████████████              | 180.3 MB 370 kB/s eta 0:06:19     |██████████████████▌             | 185.4 MB 312 kB/s eta 0:07:12     |████████████████████▍           | 204.5 MB 156 kB/s eta 0:12:23     |████████████████████▋           | 206.4 MB 174 kB/s eta 0:10:52     |██████████████████████          | 219.6 MB 324 kB/s eta 0:05:11     |██████████████████████▎         | 222.8 MB 194 kB/s eta 0:08:23     |██████████████████████▋         | 226.7 MB 161 kB/s eta 0:09:43     |██████████████████████████      | 260.4 MB 198 kB/s eta 0:05:03     |██████████████████████████▋     | 266.2 MB 132 kB/s eta 0:06:48     |████████████████████████████▎   | 282.9 MB 153 kB/s eta 0:04:04     |████████████████████████████▌   | 285.8 MB 76 kB/s eta 0:07:30     |█████████████████████████████▎  | 293.5 MB 218 kB/s eta 0:02:03     |█████████████████████████████▌  | 294.9 MB 148 kB/s eta 0:02:52     |█████████████████████████████▌  | 295.2 MB 168 kB/s eta 0:02:30     |█████████████████████████████▋  | 296.7 MB 96 kB/s eta 0:04:04     |█████████████████████████████▊  | 297.6 MB 99 kB/s eta 0:03:49     |█████████████████████████████▉  | 298.9 MB 176 kB/s eta 0:02:02     |██████████████████████████████▌ | 305.3 MB 188 kB/s eta 0:01:20     |███████████████████████████████ | 310.3 MB 159 kB/s eta 0:01:04     |███████████████████████████████ | 310.8 MB 86 kB/s eta 0:01:52     |███████████████████████████████ | 311.1 MB 140 kB/s eta 0:01:07     |███████████████████████████████▍| 314.3 MB 145 kB/s eta 0:00:42     |███████████████████████████████▌| 314.9 MB 238 kB/s eta 0:00:23     |███████████████████████████████▋| 316.2 MB 333 kB/s eta 0:00:13     |███████████████████████████████▉| 318.8 MB 269 kB/s eta 0:00:06\n",
      "\u001b[?25hCollecting absl-py>=0.7.0\n",
      "  Downloading absl_py-0.10.0-py3-none-any.whl (127 kB)\n",
      "\u001b[K     |████████████████████████████████| 127 kB 993 kB/s eta 0:00:01\n",
      "\u001b[?25hCollecting tensorboard<3,>=2.3.0\n",
      "  Downloading tensorboard-2.3.0-py3-none-any.whl (6.8 MB)\n",
      "\u001b[K     |████████████████████████████████| 6.8 MB 2.4 kB/s eta 0:00:011\n",
      "\u001b[?25hCollecting google-pasta>=0.1.8\n",
      "  Downloading google_pasta-0.2.0-py3-none-any.whl (57 kB)\n",
      "\u001b[K     |████████████████████████████████| 57 kB 91 kB/s  eta 0:00:01\n",
      "\u001b[?25hRequirement already satisfied: wrapt>=1.11.1 in ./anaconda3/lib/python3.7/site-packages (from tensorflow) (1.11.2)\n",
      "Requirement already satisfied: h5py<2.11.0,>=2.10.0 in ./anaconda3/lib/python3.7/site-packages (from tensorflow) (2.10.0)\n",
      "Requirement already satisfied: wheel>=0.26 in ./anaconda3/lib/python3.7/site-packages (from tensorflow) (0.34.2)\n",
      "Collecting tensorflow-estimator<2.4.0,>=2.3.0\n",
      "  Downloading tensorflow_estimator-2.3.0-py2.py3-none-any.whl (459 kB)\n",
      "\u001b[K     |████████████████████████████████| 459 kB 435 kB/s eta 0:00:01\n",
      "\u001b[?25hCollecting keras-preprocessing<1.2,>=1.1.1\n",
      "  Downloading Keras_Preprocessing-1.1.2-py2.py3-none-any.whl (42 kB)\n",
      "\u001b[K     |████████████████████████████████| 42 kB 15 kB/s  eta 0:00:01\n",
      "\u001b[?25hRequirement already satisfied: numpy<1.19.0,>=1.16.0 in ./anaconda3/lib/python3.7/site-packages (from tensorflow) (1.18.1)\n",
      "Collecting grpcio>=1.8.6\n",
      "  Downloading grpcio-1.31.0-cp37-cp37m-manylinux2014_x86_64.whl (3.4 MB)\n",
      "\u001b[K     |████████████████████████████████| 3.4 MB 124 kB/s eta 0:00:01\n",
      "\u001b[?25hRequirement already satisfied: scipy==1.4.1 in ./anaconda3/lib/python3.7/site-packages (from tensorflow) (1.4.1)\n",
      "Collecting opt-einsum>=2.3.2\n",
      "  Downloading opt_einsum-3.3.0-py3-none-any.whl (65 kB)\n",
      "\u001b[K     |████████████████████████████████| 65 kB 71 kB/s  eta 0:00:01\n",
      "\u001b[?25hCollecting termcolor>=1.1.0\n",
      "  Downloading termcolor-1.1.0.tar.gz (3.9 kB)\n",
      "Requirement already satisfied: six>=1.12.0 in ./anaconda3/lib/python3.7/site-packages (from tensorflow) (1.14.0)\n",
      "Collecting astunparse==1.6.3\n",
      "  Downloading astunparse-1.6.3-py2.py3-none-any.whl (12 kB)\n",
      "Collecting protobuf>=3.9.2\n",
      "  Downloading protobuf-3.13.0-cp37-cp37m-manylinux1_x86_64.whl (1.3 MB)\n",
      "\u001b[K     |████████████████████████████████| 1.3 MB 159 kB/s eta 0:00:01     |███████████████████████████████▋| 1.3 MB 159 kB/s eta 0:00:01\n",
      "\u001b[?25hCollecting gast==0.3.3\n",
      "  Downloading gast-0.3.3-py2.py3-none-any.whl (9.7 kB)\n",
      "Requirement already satisfied: requests<3,>=2.21.0 in ./anaconda3/lib/python3.7/site-packages (from tensorboard<3,>=2.3.0->tensorflow) (2.22.0)\n",
      "Collecting google-auth<2,>=1.6.3\n",
      "  Downloading google_auth-1.21.0-py2.py3-none-any.whl (92 kB)\n",
      "\u001b[K     |████████████████████████████████| 92 kB 47 kB/s  eta 0:00:01\n",
      "\u001b[?25hCollecting tensorboard-plugin-wit>=1.6.0\n",
      "  Downloading tensorboard_plugin_wit-1.7.0-py3-none-any.whl (779 kB)\n",
      "\u001b[K     |████████████████████████████████| 779 kB 177 kB/s eta 0:00:01\n",
      "\u001b[?25hRequirement already satisfied: werkzeug>=0.11.15 in ./anaconda3/lib/python3.7/site-packages (from tensorboard<3,>=2.3.0->tensorflow) (1.0.0)\n",
      "Collecting google-auth-oauthlib<0.5,>=0.4.1\n",
      "  Downloading google_auth_oauthlib-0.4.1-py2.py3-none-any.whl (18 kB)\n",
      "Requirement already satisfied: setuptools>=41.0.0 in ./anaconda3/lib/python3.7/site-packages (from tensorboard<3,>=2.3.0->tensorflow) (45.2.0.post20200210)\n",
      "Collecting markdown>=2.6.8\n",
      "  Downloading Markdown-3.2.2-py3-none-any.whl (88 kB)\n",
      "\u001b[K     |████████████████████████████████| 88 kB 269 kB/s eta 0:00:01\n",
      "\u001b[?25hRequirement already satisfied: chardet<3.1.0,>=3.0.2 in ./anaconda3/lib/python3.7/site-packages (from requests<3,>=2.21.0->tensorboard<3,>=2.3.0->tensorflow) (3.0.4)\n",
      "Requirement already satisfied: certifi>=2017.4.17 in ./anaconda3/lib/python3.7/site-packages (from requests<3,>=2.21.0->tensorboard<3,>=2.3.0->tensorflow) (2019.11.28)\n",
      "Requirement already satisfied: urllib3!=1.25.0,!=1.25.1,<1.26,>=1.21.1 in ./anaconda3/lib/python3.7/site-packages (from requests<3,>=2.21.0->tensorboard<3,>=2.3.0->tensorflow) (1.25.8)\n",
      "Requirement already satisfied: idna<2.9,>=2.5 in ./anaconda3/lib/python3.7/site-packages (from requests<3,>=2.21.0->tensorboard<3,>=2.3.0->tensorflow) (2.8)\n",
      "Collecting cachetools<5.0,>=2.0.0\n",
      "  Downloading cachetools-4.1.1-py3-none-any.whl (10 kB)\n",
      "Collecting pyasn1-modules>=0.2.1\n",
      "  Downloading pyasn1_modules-0.2.8-py2.py3-none-any.whl (155 kB)\n",
      "\u001b[K     |████████████████████████████████| 155 kB 234 kB/s eta 0:00:01\n",
      "\u001b[?25hCollecting rsa<5,>=3.1.4; python_version >= \"3.5\"\n",
      "  Downloading rsa-4.6-py3-none-any.whl (47 kB)\n",
      "\u001b[K     |████████████████████████████████| 47 kB 234 kB/s eta 0:00:01\n",
      "\u001b[?25hCollecting requests-oauthlib>=0.7.0\n",
      "  Downloading requests_oauthlib-1.3.0-py2.py3-none-any.whl (23 kB)\n",
      "Requirement already satisfied: importlib-metadata; python_version < \"3.8\" in ./anaconda3/lib/python3.7/site-packages (from markdown>=2.6.8->tensorboard<3,>=2.3.0->tensorflow) (1.5.0)\n",
      "Collecting pyasn1<0.5.0,>=0.4.6\n",
      "  Downloading pyasn1-0.4.8-py2.py3-none-any.whl (77 kB)\n",
      "\u001b[K     |████████████████████████████████| 77 kB 134 kB/s eta 0:00:01\n",
      "\u001b[?25hCollecting oauthlib>=3.0.0\n",
      "  Downloading oauthlib-3.1.0-py2.py3-none-any.whl (147 kB)\n",
      "\u001b[K     |████████████████████████████████| 147 kB 204 kB/s eta 0:00:01\n",
      "\u001b[?25hRequirement already satisfied: zipp>=0.5 in ./anaconda3/lib/python3.7/site-packages (from importlib-metadata; python_version < \"3.8\"->markdown>=2.6.8->tensorboard<3,>=2.3.0->tensorflow) (2.2.0)\n"
     ]
    },
    {
     "name": "stdout",
     "output_type": "stream",
     "text": [
      "Building wheels for collected packages: termcolor\n",
      "  Building wheel for termcolor (setup.py) ... \u001b[?25ldone\n",
      "\u001b[?25h  Created wheel for termcolor: filename=termcolor-1.1.0-py3-none-any.whl size=4830 sha256=e3ec2cfb99e7ac5f96963d5c9bed37fb2954028c8d0897efc221c81856630be1\n",
      "  Stored in directory: /root/.cache/pip/wheels/3f/e3/ec/8a8336ff196023622fbcb36de0c5a5c218cbb24111d1d4c7f2\n",
      "Successfully built termcolor\n",
      "Installing collected packages: absl-py, cachetools, pyasn1, pyasn1-modules, rsa, google-auth, tensorboard-plugin-wit, grpcio, oauthlib, requests-oauthlib, google-auth-oauthlib, protobuf, markdown, tensorboard, google-pasta, tensorflow-estimator, keras-preprocessing, opt-einsum, termcolor, astunparse, gast, tensorflow\n",
      "Successfully installed absl-py-0.10.0 astunparse-1.6.3 cachetools-4.1.1 gast-0.3.3 google-auth-1.21.0 google-auth-oauthlib-0.4.1 google-pasta-0.2.0 grpcio-1.31.0 keras-preprocessing-1.1.2 markdown-3.2.2 oauthlib-3.1.0 opt-einsum-3.3.0 protobuf-3.13.0 pyasn1-0.4.8 pyasn1-modules-0.2.8 requests-oauthlib-1.3.0 rsa-4.6 tensorboard-2.3.0 tensorboard-plugin-wit-1.7.0 tensorflow-2.3.0 tensorflow-estimator-2.3.0 termcolor-1.1.0\n"
     ]
    }
   ],
   "source": [
    "!pip install tensorflow\n"
   ]
  },
  {
   "cell_type": "code",
   "execution_count": 2,
   "metadata": {},
   "outputs": [],
   "source": [
    "import matplotlib.pyplot as plt\n",
    "import numpy as np\n",
    "import os\n",
    "import PIL\n",
    "import tensorflow as tf\n",
    "\n",
    "from tensorflow import keras\n",
    "from tensorflow.keras import layers\n",
    "from tensorflow.keras.models import Sequential"
   ]
  },
  {
   "cell_type": "code",
   "execution_count": 3,
   "metadata": {},
   "outputs": [],
   "source": [
    "imgloc=[]\n",
    "label=[]\n",
    "for dirname, _, filenames in os.walk('/home/shubham/Desktop/new projects data/project2  detect ages/data/train/Adults'):\n",
    "    for filename in filenames:\n",
    "        imgloc.append((os.path.join(dirname, filename)))\n",
    "        label.append(0)\n",
    "for dirname, _, filenames in os.walk('/home/shubham/Desktop/new projects data/project2  detect ages/data/train/Teenagers'):\n",
    "    for filename in filenames:\n",
    "        imgloc.append((os.path.join(dirname, filename)))\n",
    "        label.append(1)\n",
    "for dirname, _, filenames in os.walk('/home/shubham/Desktop/new projects data/project2  detect ages/data/train/Toddler'):\n",
    "    for filename in filenames:\n",
    "        imgloc.append((os.path.join(dirname, filename)))\n",
    "        label.append(2)\n"
   ]
  },
  {
   "cell_type": "code",
   "execution_count": 5,
   "metadata": {},
   "outputs": [],
   "source": [
    "import cv2\n",
    "img=[]\n",
    "for i in range(0, len(imgloc)):\n",
    "    img1 = cv2.imread(imgloc[i],1)\n",
    "    img2 = np.array(img1)\n",
    "    img2 = cv2.resize(img2,(128,128))\n",
    "    img.append(cv2.cvtColor(img2,cv2.COLOR_BGR2RGB))"
   ]
  },
  {
   "cell_type": "code",
   "execution_count": 8,
   "metadata": {},
   "outputs": [],
   "source": [
    "df = pd.read_csv('/home/shubham/Desktop/new projects data/project2  detect ages/data/Test.csv')\n",
    "id_test = df['Filename']"
   ]
  },
  {
   "cell_type": "code",
   "execution_count": 10,
   "metadata": {},
   "outputs": [],
   "source": [
    "imgloc2=[]\n",
    "for dirname, _, filenames in os.walk('/home/shubham/Desktop/new projects data/project2  detect ages/data/test'):\n",
    "    for filename in filenames:\n",
    "        imgloc2.append((os.path.join(dirname, filename)))"
   ]
  },
  {
   "cell_type": "code",
   "execution_count": 11,
   "metadata": {},
   "outputs": [],
   "source": [
    "imgx=[]\n",
    "for i in range(0, len(imgloc2)):\n",
    "    img1 = cv2.imread(imgloc2[i],1)\n",
    "    img2 = np.array(img1)\n",
    "    img2 = cv2.resize(img2,(128,128))\n",
    "    imgx.append(cv2.cvtColor(img2,cv2.COLOR_BGR2RGB))"
   ]
  },
  {
   "cell_type": "code",
   "execution_count": 15,
   "metadata": {},
   "outputs": [],
   "source": [
    "from keras.layers import Dense, Activation, Dropout, Conv2D, MaxPooling2D, Flatten\n",
    "from keras.models import Sequential\n",
    "model = Sequential()\n",
    "model.add(Conv2D(16, kernel_size=(5, 5), strides=(1, 1),activation='tanh',input_shape=img[0].shape))\n",
    "model.add(MaxPooling2D(pool_size=(2, 2), strides=(2, 2)))\n",
    "model.add(Conv2D(32, (5, 5), activation='relu'))\n",
    "model.add(MaxPooling2D(pool_size=(2, 2)))\n",
    "model.add(Flatten())\n",
    "model.add(Dense(1000, activation='relu'))\n",
    "model.add(Dense(10, activation='softmax'))"
   ]
  },
  {
   "cell_type": "code",
   "execution_count": 13,
   "metadata": {},
   "outputs": [
    {
     "name": "stdout",
     "output_type": "stream",
     "text": [
      "Collecting keras\n",
      "  Downloading Keras-2.4.3-py2.py3-none-any.whl (36 kB)\n",
      "Requirement already satisfied: pyyaml in ./anaconda3/lib/python3.7/site-packages (from keras) (5.3)\n",
      "Requirement already satisfied: numpy>=1.9.1 in ./anaconda3/lib/python3.7/site-packages (from keras) (1.18.1)\n",
      "Requirement already satisfied: h5py in ./anaconda3/lib/python3.7/site-packages (from keras) (2.10.0)\n",
      "Requirement already satisfied: scipy>=0.14 in ./anaconda3/lib/python3.7/site-packages (from keras) (1.4.1)\n",
      "Requirement already satisfied: six in ./anaconda3/lib/python3.7/site-packages (from h5py->keras) (1.14.0)\n",
      "Installing collected packages: keras\n",
      "Successfully installed keras-2.4.3\n",
      "Note: you may need to restart the kernel to use updated packages.\n"
     ]
    }
   ],
   "source": [
    "pip install keras\n"
   ]
  },
  {
   "cell_type": "code",
   "execution_count": 16,
   "metadata": {},
   "outputs": [],
   "source": [
    "import keras\n",
    "model.compile(loss=keras.losses.sparse_categorical_crossentropy,\n",
    "              optimizer=keras.optimizers.SGD(lr=0.01),\n",
    "              metrics=['accuracy'])\n"
   ]
  },
  {
   "cell_type": "code",
   "execution_count": 17,
   "metadata": {},
   "outputs": [
    {
     "name": "stdout",
     "output_type": "stream",
     "text": [
      "Epoch 1/30\n",
      "281/281 [==============================] - 83s 295ms/step - loss: 2.0050 - accuracy: 0.3186\n",
      "Epoch 2/30\n",
      "281/281 [==============================] - 85s 302ms/step - loss: 1.2903 - accuracy: 0.3364\n",
      "Epoch 3/30\n",
      "281/281 [==============================] - 81s 289ms/step - loss: 1.1707 - accuracy: 0.3218\n",
      "Epoch 4/30\n",
      "281/281 [==============================] - 82s 290ms/step - loss: 1.1371 - accuracy: 0.3475\n",
      "Epoch 5/30\n",
      "281/281 [==============================] - 82s 292ms/step - loss: 1.1240 - accuracy: 0.3364\n",
      "Epoch 6/30\n",
      "281/281 [==============================] - 84s 298ms/step - loss: 1.1158 - accuracy: 0.3482\n",
      "Epoch 7/30\n",
      "281/281 [==============================] - 85s 303ms/step - loss: 1.1104 - accuracy: 0.3382\n",
      "Epoch 8/30\n",
      "281/281 [==============================] - 82s 291ms/step - loss: 1.1051 - accuracy: 0.3546\n",
      "Epoch 9/30\n",
      "281/281 [==============================] - 80s 286ms/step - loss: 1.1095 - accuracy: 0.3521\n",
      "Epoch 10/30\n",
      "281/281 [==============================] - 80s 285ms/step - loss: 1.1051 - accuracy: 0.3710\n",
      "Epoch 11/30\n",
      "281/281 [==============================] - 80s 285ms/step - loss: 1.0971 - accuracy: 0.3849\n",
      "Epoch 12/30\n",
      "281/281 [==============================] - 80s 284ms/step - loss: 1.0997 - accuracy: 0.3882\n",
      "Epoch 13/30\n",
      "281/281 [==============================] - 80s 284ms/step - loss: 1.0896 - accuracy: 0.3828\n",
      "Epoch 14/30\n",
      "281/281 [==============================] - 80s 286ms/step - loss: 1.0547 - accuracy: 0.4467\n",
      "Epoch 15/30\n",
      "281/281 [==============================] - 80s 285ms/step - loss: 1.0221 - accuracy: 0.4848\n",
      "Epoch 16/30\n",
      "281/281 [==============================] - 80s 285ms/step - loss: 0.9676 - accuracy: 0.5433\n",
      "Epoch 17/30\n",
      "281/281 [==============================] - 80s 286ms/step - loss: 0.9152 - accuracy: 0.5705\n",
      "Epoch 18/30\n",
      "281/281 [==============================] - 81s 287ms/step - loss: 0.8142 - accuracy: 0.6390\n",
      "Epoch 19/30\n",
      "281/281 [==============================] - 81s 287ms/step - loss: 0.7088 - accuracy: 0.6925\n",
      "Epoch 20/30\n",
      "281/281 [==============================] - 81s 287ms/step - loss: 0.5311 - accuracy: 0.7963\n",
      "Epoch 21/30\n",
      "281/281 [==============================] - 81s 287ms/step - loss: 0.3895 - accuracy: 0.8744\n",
      "Epoch 22/30\n",
      "281/281 [==============================] - 81s 288ms/step - loss: 0.2373 - accuracy: 0.9279\n",
      "Epoch 23/30\n",
      "281/281 [==============================] - 81s 287ms/step - loss: 0.1912 - accuracy: 0.9483\n",
      "Epoch 24/30\n",
      "281/281 [==============================] - 81s 287ms/step - loss: 0.1156 - accuracy: 0.9772\n",
      "Epoch 25/30\n",
      "281/281 [==============================] - 81s 288ms/step - loss: 0.0888 - accuracy: 0.9854\n",
      "Epoch 26/30\n",
      "281/281 [==============================] - 81s 289ms/step - loss: 0.0739 - accuracy: 0.9886\n",
      "Epoch 27/30\n",
      "281/281 [==============================] - 81s 288ms/step - loss: 0.0729 - accuracy: 0.9907\n",
      "Epoch 28/30\n",
      "281/281 [==============================] - 80s 286ms/step - loss: 0.0595 - accuracy: 0.9904\n",
      "Epoch 29/30\n",
      "281/281 [==============================] - 81s 287ms/step - loss: 0.0673 - accuracy: 0.9914\n",
      "Epoch 30/30\n",
      "281/281 [==============================] - 81s 288ms/step - loss: 0.0536 - accuracy: 0.9914\n"
     ]
    }
   ],
   "source": [
    "history = model.fit(np.array(img), np.array(label), batch_size=10, epochs=30, verbose=1)"
   ]
  },
  {
   "cell_type": "code",
   "execution_count": 18,
   "metadata": {},
   "outputs": [],
   "source": [
    "pre=[]\n",
    "pred = model.predict(np.array(np.array(imgx)))\n",
    "for i in range(0,len(imgx)):\n",
    "    p=pred[i][0]\n",
    "    tmp=0\n",
    "    for j in range(0,3):\n",
    "        if pred[i][j]>p:\n",
    "            p=pred[i][j]\n",
    "            tmp=j\n",
    "    pre.append(tmp)"
   ]
  },
  {
   "cell_type": "code",
   "execution_count": 19,
   "metadata": {},
   "outputs": [],
   "source": [
    "final=[]\n",
    "for i in range(len(pre)):\n",
    "    if(pre[i]==0): final.append('Adults')\n",
    "    elif(pre[i]==1): final.append('Teenagers')\n",
    "    else: final.append('Toddler')"
   ]
  },
  {
   "cell_type": "code",
   "execution_count": 26,
   "metadata": {},
   "outputs": [],
   "source": [
    "df3 = pd.DataFrame()\n",
    "df3['Filename'] = id_test\n",
    "df3['Category'] = final\n",
    "df3.to_csv('/home/shubham/Desktop/file.csv', sep=',',index=True)"
   ]
  },
  {
   "cell_type": "code",
   "execution_count": 21,
   "metadata": {},
   "outputs": [
    {
     "data": {
      "image/png": "[encoded data removed]",
      "text/plain": [
       "<Figure size 432x288 with 1 Axes>"
      ]
     },
     "metadata": {
      "needs_background": "light"
     },
     "output_type": "display_data"
    }
   ],
   "source": [
    "plt.plot(history.history['loss'])\n",
    "plt.plot(history.history['accuracy'])\n",
    "plt.title('model loss')\n",
    "plt.ylabel('loss/accuracy')\n",
    "plt.xlabel('epoch')\n",
    "plt.legend(['loss', 'accuracy'], loc='upper left')\n",
    "plt.show()"
   ]
  },
  {
   "cell_type": "code",
   "execution_count": null,
   "metadata": {},
   "outputs": [],
   "source": []
  }
 ],
 "metadata": {
  "kernelspec": {
   "display_name": "Python 3",
   "language": "python",
   "name": "python3"
  },
  "language_info": {
   "codemirror_mode": {
    "name": "ipython",
    "version": 3
   },
   "file_extension": ".py",
   "mimetype": "text/x-python",
   "name": "python",
   "nbconvert_exporter": "python",
   "pygments_lexer": "ipython3",
   "version": "3.7.6"
  }
 },
 "nbformat": 4,
 "nbformat_minor": 4
}
